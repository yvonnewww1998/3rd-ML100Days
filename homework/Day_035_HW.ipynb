{
 "cells": [
  {
   "cell_type": "markdown",
   "metadata": {},
   "source": [
    "## 回歸 Regression\n",
    "- 預測的⽬標值為實數 (-∞ ⾄ ∞)\n",
    "- 可以轉化為分類問題\n",
    "    - 模型原本是直接預測⾝⾼ (cm) -> 可更改為預測是否⾼於中位數 (yes or no) -> 或是預測多個類別，如矮、中等、⾼\n",
    "    - 可根據專案的需求⾃⾏變化⽬標定義\n",
    "## 分類 Classification\n",
    "- 預測的⽬標值為類別 (0 或 1)\n",
    "- ⼆元分類 (binary-class)\n",
    "- 多元分類 (Multi-class)\n",
    "    - 多分類 (Multi-class)：每個樣本都只能歸在⼀個類別\n",
    "    - 多標籤 (Multi-label)：⼀個樣本如果可以同時有多個類別"
   ]
  },
  {
   "cell_type": "markdown",
   "metadata": {},
   "source": [
    "## 練習時間\n",
    "相信大家對回歸問題及分類問題都有初步的了解。今天的作業希望大家搜尋有關 multi-label 的案例問題。下圖是電影 \"奇異博士\" 的分類。可以看到同時有 \"Action\", \"Adventure\", \"Fantasy\" 的類別存在，代表這是個多標籤的問題。 "
   ]
  },
  {
   "cell_type": "markdown",
   "metadata": {},
   "source": [
    "![image](https://cdn-images-1.medium.com/max/1000/1*r0gYXMSQf5VhdMyl2bRDyg.png)"
   ]
  },
  {
   "cell_type": "markdown",
   "metadata": {},
   "source": [
    "## 請搜尋目標為多標籤問題 (Multi-label) 的機器學習案例，了解其資料來源、目標以及評估指標為何\n",
    "## Hint: 服飾"
   ]
  },
  {
   "cell_type": "markdown",
   "metadata": {},
   "source": [
    "https://www.analyticsvidhya.com/blog/2019/04/predicting-movie-genres-nlp-multi-label-classification/\n",
    "資料來源：CMU Movie Summary Corpus - http://www.cs.cmu.edu/~ark/personas/\n",
    "目標：將一部電影做分類，可以同時有多重類別\n",
    "評估指標：to evaluate our model’s overall performance, we need to take into consideration all the predictions and the entire target variable of the validation set:"
   ]
  }
 ],
 "metadata": {
  "kernelspec": {
   "display_name": "Python 3",
   "language": "python",
   "name": "python3"
  },
  "language_info": {
   "codemirror_mode": {
    "name": "ipython",
    "version": 3
   },
   "file_extension": ".py",
   "mimetype": "text/x-python",
   "name": "python",
   "nbconvert_exporter": "python",
   "pygments_lexer": "ipython3",
   "version": "3.7.3"
  }
 },
 "nbformat": 4,
 "nbformat_minor": 2
}
