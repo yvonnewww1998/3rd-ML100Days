{
 "cells": [
  {
   "cell_type": "markdown",
   "metadata": {},
   "source": [
    "## [作業目標]\n",
    "了解機器學習適合應用的領域與範疇。"
   ]
  },
  {
   "cell_type": "markdown",
   "metadata": {},
   "source": [
    "## [作業重點]\n",
    "透過瞭解機器學習的運作方式，找出非常適用機器學習應用的領域及其原因"
   ]
  },
  {
   "cell_type": "markdown",
   "metadata": {},
   "source": [
    "## 作業\n",
    "請找出一個你認為機器學習可以發光發熱的領域並闡述原因? "
   ]
  },
  {
   "cell_type": "markdown",
   "metadata": {},
   "source": [
    " \n",
    " \n",
    "\n",
    " 我認為能夠將其應用在法律相關領域。\n",
    "  \n",
    "  機器學習能夠檢視資料，分析出一個根據這些歷史資料而來的預測結果，而法律界，舉律師來說，就是去研究是否有符合當前事件的條例，並且翻找過去的案件去預先了解過去做過的判決，或是辯方所可能提出的問題，這些都是要從過去的資料而來，如果能經由機器學習將當前案件與過去的做比對，找出最相似的案件，讓律師能直接取得相似案件去做研讀，則能省下大量的人工查找時間。除了律師之外，法官也是要對過去的判決做參考的，機器學習也能比對案件給出適合的判決給法官作參考，省下人工查找的時間。\n",
    "  \n",
    "  正因為法界大多依賴的是過去的資料，所以其原理便與機器學習的方法相關，所以我認為法律領域非常適用。"
   ]
  }
 ],
 "metadata": {
  "kernelspec": {
   "display_name": "Python 3",
   "language": "python",
   "name": "python3"
  },
  "language_info": {
   "codemirror_mode": {
    "name": "ipython",
    "version": 3
   },
   "file_extension": ".py",
   "mimetype": "text/x-python",
   "name": "python",
   "nbconvert_exporter": "python",
   "pygments_lexer": "ipython3",
   "version": "3.7.3"
  }
 },
 "nbformat": 4,
 "nbformat_minor": 2
}
