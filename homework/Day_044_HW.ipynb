{
 "cells": [
  {
   "cell_type": "markdown",
   "metadata": {},
   "source": [
    "## [作業重點]\n",
    "確保你了解隨機森林模型中每個超參數的意義，並觀察調整超參數對結果的影響"
   ]
  },
  {
   "cell_type": "markdown",
   "metadata": {},
   "source": [
    "## 作業\n",
    "\n",
    "1. 試著調整 RandomForestClassifier(...) 中的參數，並觀察是否會改變結果？\n",
    "2. 改用其他資料集 (boston, wine)，並與回歸模型與決策樹的結果進行比較"
   ]
  },
  {
   "cell_type": "code",
   "execution_count": 8,
   "metadata": {},
   "outputs": [
    {
     "name": "stdout",
     "output_type": "stream",
     "text": [
      "Accuracy:  0.9736842105263158\n"
     ]
    }
   ],
   "source": [
    "from sklearn import datasets, metrics, linear_model\n",
    "from sklearn.ensemble import RandomForestClassifier\n",
    "from sklearn.model_selection import train_test_split\n",
    "\n",
    "# 讀取鳶尾花資料集\n",
    "iris = datasets.load_iris()\n",
    "\n",
    "# 切分訓練集/測試集\n",
    "x_train, x_test, y_train, y_test = train_test_split(iris.data, iris.target, test_size=0.25, random_state=4)\n",
    "\n",
    "# 建立模型 (使用 30 顆樹，每棵樹的最大深度為 5)\n",
    "clf = RandomForestClassifier(n_estimators=30, max_depth=5) #n_estimators 決策樹的數量 => 越多越不容易過擬和，但是運算時間會變長\n",
    "\n",
    "# 訓練模型\n",
    "clf.fit(x_train, y_train)\n",
    "\n",
    "# 預測測試集\n",
    "y_pred = clf.predict(x_test)\n",
    "\n",
    "acc = metrics.accuracy_score(y_test, y_pred)\n",
    "print(\"Accuracy: \", acc)"
   ]
  },
  {
   "cell_type": "code",
   "execution_count": 9,
   "metadata": {},
   "outputs": [
    {
     "name": "stdout",
     "output_type": "stream",
     "text": [
      "['CRIM' 'ZN' 'INDUS' 'CHAS' 'NOX' 'RM' 'AGE' 'DIS' 'RAD' 'TAX' 'PTRATIO'\n",
      " 'B' 'LSTAT']\n",
      "Feature COEF for 回歸模型: [-1.18901558e-01  5.05689401e-02 -1.07427433e-02  3.66184857e+00\n",
      " -1.52957329e+01  3.39316181e+00 -5.91222130e-03 -1.49234402e+00\n",
      "  3.33696220e-01 -1.50593743e-02 -8.69475207e-01  8.80571095e-03\n",
      " -4.92763225e-01]\n",
      "Feature importance for 決策樹: [0.12083724 0.02001406 0.05394362 0.00902151 0.07078205 0.14068753\n",
      " 0.11241512 0.10332851 0.02962814 0.05073293 0.04629093 0.09845178\n",
      " 0.14386656]\n"
     ]
    }
   ],
   "source": [
    "boston = datasets.load_boston()\n",
    "x_train, x_test, y_train, y_test = train_test_split(boston.data, boston.target, test_size=0.25, random_state=4)\n",
    "regr = linear_model.LinearRegression() #回歸模型\n",
    "clf = RandomForestClassifier(n_estimators=100, n_jobs=-1) #決策樹\n",
    "regr.fit(x_train, y_train)\n",
    "clf.fit(x_train, y_train.astype('int'))\n",
    "y_pred_r = regr.predict(x_test)\n",
    "y_pred_f = clf.predict(x_test)\n",
    "print(boston.feature_names)\n",
    "print(\"Feature COEF for 回歸模型:\", regr.coef_)\n",
    "print(\"Feature importance for 決策樹:\", clf.feature_importances_)"
   ]
  },
  {
   "cell_type": "code",
   "execution_count": 10,
   "metadata": {},
   "outputs": [
    {
     "name": "stdout",
     "output_type": "stream",
     "text": [
      "['alcohol', 'malic_acid', 'ash', 'alcalinity_of_ash', 'magnesium', 'total_phenols', 'flavanoids', 'nonflavanoid_phenols', 'proanthocyanins', 'color_intensity', 'hue', 'od280/od315_of_diluted_wines', 'proline']\n",
      "Feature COEF for 回歸模型: [-0.10139884  0.00890643 -0.22037614  0.04530773  0.00047883  0.13482576\n",
      " -0.325913   -0.15138182  0.03346     0.07702213 -0.15930159 -0.28874278\n",
      " -0.00079019]\n",
      "Feature importance for 決策樹: [0.12817336 0.03663393 0.0110377  0.03110427 0.03770269 0.0490603\n",
      " 0.12167599 0.00751174 0.02435424 0.14746168 0.0949103  0.1271506\n",
      " 0.18322321]\n"
     ]
    }
   ],
   "source": [
    "wine = datasets.load_wine()\n",
    "x_train, x_test, y_train, y_test = train_test_split(wine.data, wine.target, test_size=0.25, random_state=4)\n",
    "regr = linear_model.LinearRegression() #回歸模型\n",
    "clf = RandomForestClassifier(n_estimators=100, n_jobs=-1) #決策樹\n",
    "regr.fit(x_train, y_train)\n",
    "clf.fit(x_train, y_train.astype('int'))\n",
    "y_pred_r = regr.predict(x_test)\n",
    "y_pred_f = clf.predict(x_test)\n",
    "print(wine.feature_names)\n",
    "print(\"Feature COEF for 回歸模型:\", regr.coef_)\n",
    "print(\"Feature importance for 決策樹:\", clf.feature_importances_)"
   ]
  },
  {
   "cell_type": "code",
   "execution_count": null,
   "metadata": {},
   "outputs": [],
   "source": []
  }
 ],
 "metadata": {
  "kernelspec": {
   "display_name": "Python 3",
   "language": "python",
   "name": "python3"
  },
  "language_info": {
   "codemirror_mode": {
    "name": "ipython",
    "version": 3
   },
   "file_extension": ".py",
   "mimetype": "text/x-python",
   "name": "python",
   "nbconvert_exporter": "python",
   "pygments_lexer": "ipython3",
   "version": "3.7.3"
  }
 },
 "nbformat": 4,
 "nbformat_minor": 2
}
