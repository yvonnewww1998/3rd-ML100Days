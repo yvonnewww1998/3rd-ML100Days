{
 "cells": [
  {
   "cell_type": "markdown",
   "metadata": {},
   "source": [
    "## 練習時間"
   ]
  },
  {
   "cell_type": "markdown",
   "metadata": {},
   "source": [
    "請觀看李宏毅教授以神奇寶貝進化 CP 值預測的範例，解說何謂機器學習與過擬合。並回答以下問題"
   ]
  },
  {
   "cell_type": "markdown",
   "metadata": {},
   "source": [
    "# 機器學習\n",
    "- 1.定義好模型/找一個model (ex:模型可以是線性回歸、決策樹、神經網路等等)\n",
    "    - 找出⼀組參數，讓模型產⽣的 ŷ 與真正的 y 很接近，這個步驟就跟學習的概念很像\n",
    "- 2.評估模型的好壞\n",
    "    - 定義⼀個⽬標函數 (Objective function) 也可稱作損失函數 (Loss function)，來衡量模型的好壞\n",
    "- 3.找出讓訓練⽬標最佳的模型參數\n",
    "    - (沒效率)可以⽤暴⼒法每個參數都試看看，從中找到讓損失函數最⼩的參數\n",
    "    - 利用演算法：梯度下降 (Gradient Descent)、增量訓練 (Additive Training) 等⽅式，幫我們找到可能的最佳模型參數"
   ]
  },
  {
   "cell_type": "markdown",
   "metadata": {},
   "source": [
    "# 過擬合\n",
    "- 模型可能學習到資料中的噪⾳，導致在實際應⽤時預測失準\n",
    "- 如何得知？\n",
    "    - 保留⼀些測試資料，觀察模型對於訓練資料的誤差與測試資料的誤差，是否有改變的趨勢"
   ]
  },
  {
   "cell_type": "markdown",
   "metadata": {},
   "source": [
    "[youtube](https://www.youtube.com/watch?v=fegAeph9UaA)"
   ]
  },
  {
   "cell_type": "markdown",
   "metadata": {},
   "source": [
    "### 1. 模型的泛化能力 (generalization) 是指什麼？ \n",
    "### 2. 分類問題與回歸問題分別可用的目標函數有哪些？"
   ]
  },
  {
   "cell_type": "markdown",
   "metadata": {},
   "source": [
    "1.將模型應用於廣泛的數據，且那些數據的輸出輸入均有效，泛化能力越高，能應用的數據就越多。"
   ]
  },
  {
   "cell_type": "markdown",
   "metadata": {},
   "source": [
    "2.\n",
    "- (1)classification 分類問題：感知器算法sgn,最優化,one-hot編碼,線性判別分析（LDA）\n",
    "- (2)Regression 回歸問題(找一個Fun,input資料之後他的output可以是對結果的預測)：softmax交叉熵損失,AdaBoost算法"
   ]
  },
  {
   "cell_type": "code",
   "execution_count": null,
   "metadata": {},
   "outputs": [],
   "source": []
  }
 ],
 "metadata": {
  "kernelspec": {
   "display_name": "Python 3",
   "language": "python",
   "name": "python3"
  },
  "language_info": {
   "codemirror_mode": {
    "name": "ipython",
    "version": 3
   },
   "file_extension": ".py",
   "mimetype": "text/x-python",
   "name": "python",
   "nbconvert_exporter": "python",
   "pygments_lexer": "ipython3",
   "version": "3.7.3"
  }
 },
 "nbformat": 4,
 "nbformat_minor": 2
}
